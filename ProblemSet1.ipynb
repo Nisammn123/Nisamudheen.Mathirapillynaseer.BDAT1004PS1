{
 "cells": [
  {
   "cell_type": "code",
   "execution_count": 14,
   "id": "f3aeadcf-f0b1-4111-9082-dfee5e18c0db",
   "metadata": {},
   "outputs": [
    {
     "name": "stdout",
     "output_type": "stream",
     "text": [
      "5\n",
      "5.0\n",
      "True\n",
      "5\n",
      "10\n",
      "55\n",
      "52\n",
      "2.5\n",
      "1\n",
      "[5, 2, 1]\n",
      "3.141592653589793\n"
     ]
    }
   ],
   "source": [
    "# Question 1 -> C# \n",
    "\n",
    "# a. 5 - integer datatype (int)\n",
    "print(5)\n",
    "\n",
    "# b. 5.0 - floating-point number (double)\n",
    "print(5.0)\n",
    "\n",
    "# c. 5 > 1 - This will return True (boolean)\n",
    "print(5 > 1)\n",
    "\n",
    "# d. '5' - character (char)\n",
    "print('5')\n",
    "\n",
    "# e. 5 * 2 - arithmetic operation (results in integer) (int)\n",
    "print(5 * 2)\n",
    "\n",
    "# f. '5' * 2 - This multiplies the character string by 2 in Python, but invalid in C#\n",
    "print('5' * 2)\n",
    "\n",
    "# g. '5' + '2' - character addition in C# would result in int, but this concatenates strings in Python\n",
    "print('5' + '2')\n",
    "\n",
    "# h. 5 / 2 - division (returns floating-point number) (double)\n",
    "print(5 / 2)\n",
    "\n",
    "# i. 5 % 2 - modulo operation (returns remainder) (int)\n",
    "print(5 % 2)\n",
    "\n",
    "# j. {5, 2, 1} - array of integers (int[])\n",
    "print([5, 2, 1])\n",
    "\n",
    "# k. 5 == 3 - comparison operation (returns true/false) (bool)\n",
    "print (5 == 3)\n",
    "\n",
    "# l. Pi - double-precision floating-point number (double)\n",
    "import math\n",
    "print(math.pi)\n"
   ]
  },
  {
   "cell_type": "code",
   "execution_count": 10,
   "id": "35fa0e99-3432-4db3-9ee2-051ad60a203e",
   "metadata": {},
   "outputs": [
    {
     "data": {
      "text/plain": [
       "('Bartok', 'Buxtehude')"
      ]
     },
     "execution_count": 10,
     "metadata": {},
     "output_type": "execute_result"
    }
   ],
   "source": [
    "#Questions 2 -> c#\n",
    "# a.Word length\n",
    "len('Supercalifragilisticexpialidocious')\n",
    "\n",
    "# checking for word Ice\n",
    "'ice' in 'Supercalifragilisticexpialidocious'\n",
    "\n",
    "# C:longest word\n",
    "words = ['Supercalifragilisticexpialidocious', 'Honorificabilitudinitatibus', 'Bababadalgharaghtakamminarronnkonn']\n",
    "max(words, key=len)\n",
    "\n",
    "# D: Finding first and last composers \n",
    "composers = ['Berlioz', 'Borodin', 'Brian', 'Bartok', 'Bellini', 'Buxtehude', 'Bernstein']\n",
    "first_composer = min(composers)\n",
    "last_composer = max(composers)\n",
    "\n",
    "(first_composer, last_composer)\n",
    "\n"
   ]
  },
  {
   "cell_type": "code",
   "execution_count": 12,
   "id": "52c250aa-143f-413f-aac2-0959154b8867",
   "metadata": {},
   "outputs": [
    {
     "ename": "SyntaxError",
     "evalue": "unterminated string literal (detected at line 14) (1043228032.py, line 14)",
     "output_type": "error",
     "traceback": [
      "\u001b[1;36m  Cell \u001b[1;32mIn[12], line 14\u001b[1;36m\u001b[0m\n\u001b[1;33m    // Calculate the area using Heron's formula\u001b[0m\n\u001b[1;37m                                     ^\u001b[0m\n\u001b[1;31mSyntaxError\u001b[0m\u001b[1;31m:\u001b[0m unterminated string literal (detected at line 14)\n"
     ]
    }
   ],
   "source": [
    "# Question 3 -> C#\n",
    "\n",
    "#Triangle Area Using Heron’s Formula\n",
    "\n",
    "using System;\n",
    "\n",
    "class Program\n",
    "{\n",
    "    static double TriangleArea(double a, double b, double c)\n",
    "    {\n",
    "        double s = (a + b + c) / 2;\n",
    "        double area = Math.Sqrt(s * (s - a) * (s - b) * (s - c));\n",
    "        return area;\n",
    "    }\n",
    "\n",
    "    static void Main()\n",
    "    {\n",
    "        Console.WriteLine(TriangleArea(2, 2, 2));\n",
    "    }\n",
    "}\n"
   ]
  },
  {
   "cell_type": "code",
   "execution_count": 18,
   "id": "1d5bea7c-c5fc-4f5a-8255-92b5c534797f",
   "metadata": {},
   "outputs": [
    {
     "ename": "SyntaxError",
     "evalue": "expected ':' (2911464680.py, line 6)",
     "output_type": "error",
     "traceback": [
      "\u001b[1;36m  Cell \u001b[1;32mIn[18], line 6\u001b[1;36m\u001b[0m\n\u001b[1;33m    class Program\u001b[0m\n\u001b[1;37m                 ^\u001b[0m\n\u001b[1;31mSyntaxError\u001b[0m\u001b[1;31m:\u001b[0m expected ':'\n"
     ]
    }
   ],
   "source": [
    "# Question 4 -> C#\n",
    "\n",
    "#Separate Odd and Even Integers\n",
    "\n",
    "using System;\n",
    "class Program\n",
    "{\n",
    "    static void Main()\n",
    "    {\n",
    "        # Here's an array of numbers\n",
    "        int[] arr = { 25, 47, 42, 56, 32 };\n",
    "        \n",
    "        # These lists will hold the odd and even numbers\n",
    "        List<int> oddNumbers = new List<int>();\n",
    "        List<int> evenNumbers = new List<int>();\n",
    "        \n",
    "        # Go through each number in the array\n",
    "        foreach (int num in arr)\n",
    "        {\n",
    "            # If the number is even, put it in the even list\n",
    "            if (num % 2 == 0)\n",
    "            {\n",
    "                evenNumbers.Add(num);\n",
    "            }\n",
    "            # If it's odd, put it in the odd list\n",
    "            else\n",
    "            {\n",
    "                oddNumbers.Add(num);\n",
    "            }\n",
    "        }\n",
    "        \n",
    "        # Show the even numbers\n",
    "        Console.WriteLine(\"The Even elements are: \" + string.Join(\" \", evenNumbers));\n",
    "        # Show the odd numbers\n",
    "        Console.WriteLine(\"The Odd elements are: \" + string.Join(\" \", oddNumbers));\n",
    "    }\n",
    "}\n"
   ]
  },
  {
   "cell_type": "code",
   "execution_count": 20,
   "id": "81eca01d-39b9-41fd-a68f-d080165349ab",
   "metadata": {},
   "outputs": [
    {
     "ename": "SyntaxError",
     "evalue": "invalid syntax (1082002097.py, line 4)",
     "output_type": "error",
     "traceback": [
      "\u001b[1;36m  Cell \u001b[1;32mIn[20], line 4\u001b[1;36m\u001b[0m\n\u001b[1;33m    using System;\u001b[0m\n\u001b[1;37m          ^\u001b[0m\n\u001b[1;31mSyntaxError\u001b[0m\u001b[1;31m:\u001b[0m invalid syntax\n"
     ]
    }
   ],
   "source": [
    "# Question 5 -> C#\n",
    "\n",
    "# a) Point Inside a Rectangle\n",
    "using System;\n",
    "\n",
    "class Program\n",
    "{\n",
    "    # This function checks if the point (x, y) is inside the rectangle\n",
    "    static bool Inside(double x, double y, double x1, double y1, double x2, double y2)\n",
    "    {\n",
    "        # If x and y are between the rectangle's corners, return true\n",
    "        return (x1 <= x && x <= x2) && (y1 <= y && y <= y2);\n",
    "    }\n",
    "\n",
    "    static void Main()\n",
    "    {\n",
    "        # Check if (1, 1) is inside the first rectangle\n",
    "        Console.WriteLine(Inside(1, 1, 0.3, 0.5, 1.1, 0.7));  # Should return true for Rectangle 1\n",
    "\n",
    "        # Check if (1, 1) is inside the second rectangle\n",
    "        Console.WriteLine(Inside(1, 1, 0.5, 0.2, 1.1, 2));    # Should return true for Rectangle 2\n",
    "\n",
    "        # if (1, 1) is inside both rectangles\n",
    "        Console.WriteLine(Inside(1, 1, 0.3, 0.5, 1.1, 0.7) && Inside(1, 1, 0.5, 0.2, 1.1, 2));  # Should return true\n",
    "    }\n",
    "}\n",
    "\n",
    "# b) \n",
    "using System;\n",
    "\n",
    "class Program\n",
    "{\n",
    "    # Checks if the point (x, y) is inside the rectangle\n",
    "    static bool Inside(double x, double y, double x1, double y1, double x2, double y2)\n",
    "    {\n",
    "        # Return true if x and y are within the rectangle's boundaries\n",
    "        return (x1 <= x && x <= x2) && (y1 <= y && y <= y2);\n",
    "    }\n",
    "\n",
    "    static void Main()\n",
    "    {\n",
    "        # Check if (1, 1) is inside Rectangle 1\n",
    "        bool isInRect1 = Inside(1, 1, 0.3, 0.5, 1.1, 0.7);\n",
    "        Console.WriteLine(\"Is (1, 1) inside Rectangle 1? \" + isInRect1);\n",
    "\n",
    "        # Check if (1, 1) is inside Rectangle 2\n",
    "        bool isInRect2 = Inside(1, 1, 0.5, 0.2, 1.1, 2);\n",
    "        Console.WriteLine(\"Is (1, 1) inside Rectangle 2? \" + isInRect2);\n",
    "\n",
    "        # Check if (1, 1) is inside both rectangles\n",
    "        bool isInBoth = isInRect1 && isInRect2;\n",
    "        Console.WriteLine(\"Is (1, 1) inside both rectangles? \" + isInBoth);\n",
    "    }\n",
    "}\n",
    "\n"
   ]
  },
  {
   "cell_type": "code",
   "execution_count": 31,
   "id": "e7c3f5c7-6de0-499e-a0f0-cd819d0f7c52",
   "metadata": {},
   "outputs": [
    {
     "name": "stdout",
     "output_type": "stream",
     "text": [
      "appyhay\n",
      "enterway\n"
     ]
    }
   ],
   "source": [
    "#Qustion 6 -> python: Converting Text to Pig Latin\n",
    "\n",
    "# This function turns a word into Pig Latin\n",
    "def pig(word):\n",
    "    #  made the word lowercase so it doesn't matter if it's uppercase\n",
    "    word = word.lower()\n",
    "    \n",
    "    # checking if the first letter is a vowel\n",
    "    if word[0] in 'aeiou':\n",
    "        # If it starts with a vowel, just add 'way' to the end\n",
    "        return word + 'way'\n",
    "    else:\n",
    "        # If it starts with a consonant, move the first letter to the end and add 'ay'\n",
    "        return word[1:] + word[0] + 'ay'\n",
    "\n",
    "#testing it with some words\n",
    "print(pig('happy')) \n",
    "print(pig('Enter'))  \n",
    "\n"
   ]
  },
  {
   "cell_type": "code",
   "execution_count": 48,
   "id": "42450928-beb4-427e-b382-1357426f381f",
   "metadata": {},
   "outputs": [
    {
     "name": "stdout",
     "output_type": "stream",
     "text": [
      "There are 15 patients of blood type A.\n",
      "There is 1 patient of blood type B.\n",
      "There are 13 patients of blood type AB.\n",
      "There are 15 patients of blood type O.\n",
      "There are 0 patients of blood type OO.\n"
     ]
    }
   ],
   "source": [
    "# Question 7 -> python: Blood Type Count from bloodtype1.txt\n",
    "\n",
    "# This function reads the file and counts the blood types\n",
    "def bldcount(bloodtype1):\n",
    "    # Open the file and read what's inside\n",
    "    with open(bloodtype1, 'r') as file:\n",
    "        # Split the contents into a list of blood types\n",
    "        blood_types = file.read().split()\n",
    "    \n",
    "    # These are the blood types looking for\n",
    "    blood_groups = ['A', 'B', 'AB', 'O', 'OO']\n",
    "    \n",
    "    # run go through each blood type and count how many times it shows up\n",
    "    for blood_group in blood_groups:\n",
    "        count = blood_types.count(blood_group)  # Count how many of this blood type have\n",
    "        \n",
    "        # If there's only one patient, say \"1 patient\", otherwise use plural \"patients\"\n",
    "        if count == 1:\n",
    "            print(f\"There is 1 patient of blood type {blood_group}.\")\n",
    "        else:\n",
    "           print(f\"There are {count} patients of blood type {blood_group}.\")\n",
    "bldcount('bloodtype1.txt')\n",
    "\n",
    "# Referenced this StackOverflow post for reading and splitting file contents:\n",
    "# https://stackoverflow.com/questions/3925614/how-do-you-read-a-file-into-a-list-in-python\n",
    "\n",
    "\n",
    "\n"
   ]
  },
  {
   "cell_type": "code",
   "execution_count": 52,
   "id": "7b06fe29-f6a7-48a2-a205-c0335f19a630",
   "metadata": {},
   "outputs": [
    {
     "name": "stdout",
     "output_type": "stream",
     "text": [
      "184.44816\n",
      "1.4896812\n"
     ]
    }
   ],
   "source": [
    "# Question 8 -> python: Currency Conversion\n",
    "\n",
    "# This function converts an amount from one currency to USD\n",
    "def curconv(currency, amount):\n",
    "    # Open the currencies file and read what's inside\n",
    "    with open('currencies.txt', 'r') as file:\n",
    "        # Go through each line in the file\n",
    "        for line in file:\n",
    "            # Split the line into parts to get the currency code and the exchange rate\n",
    "            data = line.split()\n",
    "            # If the currency code matches what looking for\n",
    "            if data[0] == currency:\n",
    "                # Convert the exchange rate to a number and multiply it by the amount\n",
    "                exchange_rate = float(data[1])\n",
    "                return amount * exchange_rate  # Return the converted amount\n",
    "\n",
    "# test the function with some currency conversions\n",
    "print(curconv('EUR', 150))  # Should give us the amount in USD for 100 EUR\n",
    "print(curconv('JPY', 120))  # Should give us the amount in USD for 100 JPY\n",
    "\n"
   ]
  },
  {
   "cell_type": "code",
   "execution_count": 59,
   "id": "e874d5e1-e1eb-4a13-a99b-9ce5c2b4ac6e",
   "metadata": {},
   "outputs": [
    {
     "name": "stdout",
     "output_type": "stream",
     "text": [
      "TypeError: unsupported operand type(s) for +: 'int' and 'str'\n",
      "IndexError: list index out of range\n",
      "ValueError: math domain error\n",
      "NameError: name 'x' is not defined\n",
      "FileNotFoundError: [Errno 2] No such file or directory: 'non_such_file.txt'\n"
     ]
    }
   ],
   "source": [
    "# Question 9 -> python : what type of exception each will cause\n",
    "\n",
    "# 1. Trying to add a number and a string (6 + 'a')\n",
    "try:\n",
    "    result = 6 + 'a'\n",
    "except TypeError as e:\n",
    "    print(f\"TypeError: {e}\")  # This is the TypeError because wecan't add numbers and strings\n",
    "\n",
    "# 2. Trying to access an index in a list that doesn't exist\n",
    "try:\n",
    "    lst = [1, 2, 3, 4, 5, 6, 7, 8, 9, 10]\n",
    "    result = lst[11]  # Lists start at 0, so index 11 is out of range for this list\n",
    "except IndexError as e:\n",
    "    print(f\"IndexError: {e}\")  # This is an IndexError because the list is too short\n",
    "\n",
    "# 3. Trying to get the square root of a negative number\n",
    "import math\n",
    "try:\n",
    "    result = math.sqrt(-1.0)  # Square root of negative numbers isn't possible in real numbers\n",
    "except ValueError as e:\n",
    "    print(f\"ValueError: {e}\")  # This is a ValueError because the math doesn't work\n",
    "\n",
    "# 4. Trying to use a variable that hasn’t been defined\n",
    "try:\n",
    "    print(x)  # 'x' isn't defined anywhere, so this will cause an error\n",
    "except NameError as e:\n",
    "    print(f\"NameError: {e}\")  # This is a NameError because 'x' doesn't exist\n",
    "\n",
    "# 5. Trying to open a file that doesn't exist\n",
    "try:\n",
    "    with open('non_such_file.txt', 'r') as file:\n",
    "        content = file.read()  # This tries to read a file that doesn't exist\n",
    "except FileNotFoundError as e:\n",
    "    print(f\"FileNotFoundError: {e}\")  # This is a FileNotFoundError because the file isn't there\n",
    "\n"
   ]
  },
  {
   "cell_type": "code",
   "execution_count": 68,
   "id": "8a991f91-cca6-4dce-8a83-6714cf5fcd8a",
   "metadata": {},
   "outputs": [
    {
     "name": "stdout",
     "output_type": "stream",
     "text": [
      "[1, 1, 1, 1, 3, 1, 1, 2, 1, 1, 1, 1, 1, 1, 4, 1, 1, 2, 1, 2, 2, 1, 1, 1, 1, 1]\n"
     ]
    }
   ],
   "source": [
    "#Qusestion 10 -> python : Letter frequencies\n",
    "\n",
    "# Counts the frequency of each letter in the input string\n",
    "def frequencies(text):\n",
    "    # List with 26 zeros (one for each letter)\n",
    "    frequency_list = [0] * 26\n",
    "\n",
    "    # Loop through each character in the text\n",
    "    for char in text:\n",
    "        # If it's a letter\n",
    "        if char.isalpha():\n",
    "            # Find its index (0 for 'a', 1 for 'b', ..., 25 for 'z')\n",
    "            index = ord(char.lower()) - ord('a')\n",
    "            # Increment its count\n",
    "            frequency_list[index] += 1\n",
    "    \n",
    "    return frequency_list\n",
    "\n",
    "# Test the function\n",
    "print(frequencies('The quick red fox got bored and went home'))\n",
    "\n",
    "\n",
    "# Referenced this StackOverflow post for counting occurrences of characters in a string:\n",
    "# https://stackoverflow.com/questions/1155617/count-the-number-of-occurrences-of-a-character-in-a-string\n"
   ]
  },
  {
   "cell_type": "code",
   "execution_count": null,
   "id": "a371ce59-1c96-4bd9-a9c0-3bf68a88952d",
   "metadata": {},
   "outputs": [],
   "source": []
  }
 ],
 "metadata": {
  "kernelspec": {
   "display_name": "Python 3 (ipykernel)",
   "language": "python",
   "name": "python3"
  },
  "language_info": {
   "codemirror_mode": {
    "name": "ipython",
    "version": 3
   },
   "file_extension": ".py",
   "mimetype": "text/x-python",
   "name": "python",
   "nbconvert_exporter": "python",
   "pygments_lexer": "ipython3",
   "version": "3.12.4"
  }
 },
 "nbformat": 4,
 "nbformat_minor": 5
}
